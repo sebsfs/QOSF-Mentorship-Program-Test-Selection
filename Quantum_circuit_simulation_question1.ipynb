{
  "nbformat": 4,
  "nbformat_minor": 0,
  "metadata": {
    "colab": {
      "provenance": [],
      "gpuType": "V28",
      "authorship_tag": "ABX9TyMsxQjiblQzgn2vyclGYeE9"
    },
    "kernelspec": {
      "name": "python3",
      "display_name": "Python 3"
    },
    "language_info": {
      "name": "python"
    },
    "accelerator": "TPU"
  },
  "cells": [
    {
      "cell_type": "markdown",
      "source": [
        "# Quantum Circuit Simulation for n Qubits  \n",
        "### Author: Angel Fernandez\n",
        "\n",
        "---\n",
        "\n",
        "**Date:** [Date of creation or submission, e.g., November 09, 2024]  \n",
        "**Environment:** Python 3, Google Colab TPU v2-8  \n",
        "**RAM Limit:** 334.6 GB  \n",
        "\n",
        "---\n"
      ],
      "metadata": {
        "id": "RGpyGSLvVdXI"
      }
    },
    {
      "cell_type": "markdown",
      "source": [
        "In this project, a quantum circuit was implemented for n qubits using vectors and matrices with Kronecker products in Google Colab. The gates used were the Hadamard (H), NOT (X), and CNOT gates."
      ],
      "metadata": {
        "id": "evmWZgylWjJl"
      }
    },
    {
      "cell_type": "markdown",
      "source": [
        "#Initialization"
      ],
      "metadata": {
        "id": "E9raSlS9Z5aA"
      }
    },
    {
      "cell_type": "code",
      "source": [
        "import numpy as np\n",
        "import time\n",
        "import matplotlib.pyplot as plt\n",
        "\n",
        "# Define gate matrices\n",
        "I = np.array([[1, 0], [0, 1]])  # Identity matrix\n",
        "X = np.array([[0, 1], [1, 0]])  # NOT gate matrix\n",
        "H = np.array([[1, 1], [1, -1]]) / np.sqrt(2) #Hadamard gate matrix"
      ],
      "metadata": {
        "id": "up_OMjw7LJqt"
      },
      "execution_count": 22,
      "outputs": []
    },
    {
      "cell_type": "markdown",
      "source": [
        "# Functions"
      ],
      "metadata": {
        "id": "LdflrbOAZ9tq"
      }
    },
    {
      "cell_type": "code",
      "source": [
        "# Function to apply 'H' and 'X' gates for the entire system by Kronecker product.\n",
        "def full_gate_matrix(gate, n, target_qubit):\n",
        "    \"\"\"\n",
        "    Build the full_gate matrix for n qubits for H and X gates.\n",
        "    gate: H or X gate.\n",
        "    n: number of qubits.\n",
        "    target_qubit: index of the qubit to apply the gate.\n",
        "    \"\"\"\n",
        "    full_gate = 1\n",
        "    for i in range(n):\n",
        "        # The Kronecker product is applied to the corresponding gate for qubit n\n",
        "        if i == target_qubit:\n",
        "            full_gate = np.kron(full_gate, gate)\n",
        "        else:\n",
        "            full_gate = np.kron(full_gate, I)\n",
        "    return full_gate\n",
        "\n",
        "# Function to apply the 'CNOT' gate to a system of n qubits\n",
        "def cnot_matrix(n, control, target):\n",
        "    \"\"\"\n",
        "    Construye la matriz de CNOT para n qubits\n",
        "    n: número total de qubits\n",
        "    control: lista de índices de los qubits de control (0 a n-1)\n",
        "    target: índice del qubit de destino (0 a n-1)\n",
        "    \"\"\"\n",
        "    dim = 2 ** n\n",
        "    cnot = np.identity(dim, dtype=int)\n",
        "\n",
        "    for i in range(dim):\n",
        "        bits = list(format(i, f'0{n}b'))  #Get the binary representation of i\n",
        "        # Verify if all control bits are 1\n",
        "        if all(bits[c] == '1' for c in control):\n",
        "            bits[target] = '0' if bits[target] == '1' else '1'\n",
        "            # Change the target bit\n",
        "            j = int(\"\".join(bits), 2)\n",
        "            # Swap rows\n",
        "            cnot[i, i], cnot[i, j] = 0, 1\n",
        "            cnot[j, j], cnot[j, i] = 0, 1\n",
        "    return cnot\n",
        "\n",
        "def run_circuit(statev, n, gate_sequence):\n",
        "    # Apply each gate in sequence\n",
        "    for gate, target_qubit in gate_sequence:\n",
        "        if gate == 'X':\n",
        "            full_gate = full_gate_matrix(X, n, target_qubit)\n",
        "            statev = np.dot(full_gate, statev)\n",
        "        elif gate == 'H':\n",
        "            full_gate = full_gate_matrix(H, n, target_qubit)\n",
        "            statev = np.dot(full_gate, statev)\n",
        "        elif gate == 'CNOT':\n",
        "            control, target = target_qubit\n",
        "            full_gate = cnot_matrix(n, control, target)\n",
        "            statev = np.dot(full_gate, statev)\n",
        "    return statev"
      ],
      "metadata": {
        "id": "mxXwBY_kL3kB"
      },
      "execution_count": 3,
      "outputs": []
    },
    {
      "cell_type": "markdown",
      "source": [
        "# Test with 3 qubits"
      ],
      "metadata": {
        "id": "iqWOYtYuaCPU"
      }
    },
    {
      "cell_type": "code",
      "execution_count": 4,
      "metadata": {
        "colab": {
          "base_uri": "https://localhost:8080/"
        },
        "id": "kic2ky5LBL1o",
        "outputId": "c3a9ed98-1e82-4193-ef8d-2a8b76e93793"
      },
      "outputs": [
        {
          "output_type": "stream",
          "name": "stdout",
          "text": [
            "Initial state vector: [1. 0. 0. 0. 0. 0. 0. 0.]\n",
            "Final state vector: [0.70710678 0.70710678 0.         0.         0.         0.\n",
            " 0.         0.        ]\n"
          ]
        }
      ],
      "source": [
        "n = 3 # Number of qbits\n",
        "\n",
        "# Initialize the state vector to |0...0>\n",
        "statev = np.zeros(2**n)\n",
        "statev[0] = 1  # Set |0...0> state\n",
        "print(\"Initial state vector:\", statev)\n",
        "\n",
        "# Circuit working example\n",
        "# ('H',target_qubit), ('X',target_qubit), ('CNOT', (control_qubit, target_qubit))]\n",
        "gate_sequence = [('H', 2), ('X', 1), ('CNOT', ([0,1], 2)), ('X', 1)]\n",
        "statev_final = run_circuit(statev, n, gate_sequence)\n",
        "\n",
        "print(\"Final state vector:\", statev_final)"
      ]
    },
    {
      "cell_type": "markdown",
      "source": [
        "# Run cirtuit"
      ],
      "metadata": {
        "id": "V1nbQ4WHaEwj"
      }
    },
    {
      "cell_type": "code",
      "source": [
        "# Plot runtime as function of number of qubits\n",
        "qubits_range = range(2, 18)\n",
        "times = []\n",
        "\n",
        "for n in qubits_range:\n",
        "    # Initialize the state vector to |0...0>\n",
        "    statev = np.zeros(2**n)\n",
        "    statev[0] = 1  # Set |0...0> state\n",
        "    gate_sequence = [('H', 0), ('X', n-1), ('CNOT', ([n-1], 0))]  # Example circuit\n",
        "    start_time = time.time()\n",
        "    final_state = run_circuit(statev, n, gate_sequence)\n",
        "    end_time = time.time()\n",
        "    times.append(end_time - start_time)\n",
        "\n",
        "plt.plot(qubits_range, times, marker='o')\n",
        "plt.xlabel('Number of Qubits')\n",
        "plt.ylabel('Runtime (s)')\n",
        "plt.title('Runtime of State Vector Simulation')\n",
        "plt.show()"
      ],
      "metadata": {
        "colab": {
          "base_uri": "https://localhost:8080/",
          "height": 472
        },
        "id": "3P-JgG4G3H7Z",
        "outputId": "6ef5acbb-05ed-472b-8856-638b6c34c2d5"
      },
      "execution_count": 5,
      "outputs": [
        {
          "output_type": "display_data",
          "data": {
            "text/plain": [
              "<Figure size 640x480 with 1 Axes>"
            ],
            "image/png": "[encoded data removed]"
          },
          "metadata": {}
        }
      ]
    },
    {
      "cell_type": "code",
      "source": [
        "print(f\"For a {n}-qubit system, the sample circuit took {round(times[-1],2)} seconds to process.\")"
      ],
      "metadata": {
        "colab": {
          "base_uri": "https://localhost:8080/"
        },
        "id": "jDrNHlwqQz0G",
        "outputId": "0f2d6379-7728-4489-a9bc-3830b035a5c1"
      },
      "execution_count": 21,
      "outputs": [
        {
          "output_type": "stream",
          "name": "stdout",
          "text": [
            "For a 17-qubit system, the sample circuit took 462.49 seconds to process.\n"
          ]
        }
      ]
    },
    {
      "cell_type": "markdown",
      "source": [
        "# Conclusions\n",
        "For the final execution, which involved 17 qubits, memory usage reached 285.6 GB of RAM. Given these conditions, it was determined that **the maximum number of qubits** feasible in this particular environment **is 17**, due to the RAM limit of 334.6 GB.\n",
        "\n",
        "In terms of processing time, executing the circuit for 17 qubits required 462.49 seconds. While it may be possible to increase the number of qubits without significantly impacting time, the memory requirements will remain the primary constraint in this environment."
      ],
      "metadata": {
        "id": "_sV7d_Z2Sahd"
      }
    }
  ]
}
